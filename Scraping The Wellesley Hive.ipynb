{
 "cells": [
  {
   "cell_type": "markdown",
   "metadata": {},
   "source": [
    "# Scraping the Wellesley Hive Using Selenium\n",
    "__Author:__ Francisca Moya Jimenez\n",
    "\n",
    "02/20/2020\n",
    "\n",
    "In an effort to answer the question: What are Wellesley College international alumnae doing now?, we decided to scrape the Wellesley Hive, a social network for Wellesley College students and alumni, for information on international alumni. We were especially interested in collecting alumni's graduation date, their current location, their job experience, and their education. This notebook uses Selenium to log into the Wellesley Hive, perform a search to find users who are international alums, downloading the user content, and to visit each users' profile to scrape the information of interest. "
   ]
  },
  {
   "cell_type": "markdown",
   "metadata": {},
   "source": [
    "### 1. Login\n",
    "We use Selenium to navigate to the Wellesley Hive's login page and log into the portal. "
   ]
  },
  {
   "cell_type": "code",
   "execution_count": 1,
   "metadata": {},
   "outputs": [],
   "source": [
    "from selenium import webdriver"
   ]
  },
  {
   "cell_type": "code",
   "execution_count": 2,
   "metadata": {},
   "outputs": [],
   "source": [
    "from selenium.webdriver.chrome.options import Options\n",
    "options = Options()\n",
    "options.page_load_strategy = 'eager'"
   ]
  },
  {
   "cell_type": "code",
   "execution_count": 3,
   "metadata": {},
   "outputs": [],
   "source": [
    "DRIVER_PATH = '/Users/francisca/Desktop/JanuaryProject/chromedriver'\n",
    "driver = webdriver.Chrome(executable_path=DRIVER_PATH, options=options)"
   ]
  },
  {
   "cell_type": "code",
   "execution_count": 4,
   "metadata": {},
   "outputs": [],
   "source": [
    "def login(username, password):\n",
    "    \"\"\"Logs into the Wellesley Hive with the given Wellesley College credentials\"\"\"\n",
    "    \n",
    "    driver.get('https://login.wellesley.edu/module.php/core/loginuserpass.php?AuthState=_2e7d2c248c37bca87ca5f9503042055f14f1e744a8%3Ahttps%3A%2F%2Flogin.wellesley.edu%2Fsaml2%2Fidp%2FSSOService.php%3Fspentityid%3Dhttps%253A%252F%252Fwww.peoplegrove.com%252Fsaml%26cookieTime%3D1610746096%26RelayState%3Dwellesley')\n",
    "    driver.find_element_by_name('username').send_keys(username)\n",
    "    driver.find_element_by_name('password').send_keys(password)\n",
    "    driver.find_element_by_id('regularsubmit').submit()"
   ]
  },
  {
   "cell_type": "code",
   "execution_count": null,
   "metadata": {},
   "outputs": [],
   "source": [
    "# Login credentials have been taken out for privacy\n",
    "login('username', 'password')"
   ]
  },
  {
   "cell_type": "markdown",
   "metadata": {},
   "source": [
    "### 2. Searching for International Alums\n",
    "The Hive has a search functionality that can be used to find users based on specific criteria, such as class year or extracurricular involvement. One of these criteria allows us to search users based on their international student status, but many international alums chose to not display this information on their profile. After trying different combinations of criteria, we decided to search for alums who had participated in the Slater International Student Organization. The majority of the students who participate in Slater are international students, and a few are domestic students who have ties to the international community. This search yielded 229 exact results.\n",
    "\n",
    "Selenium was used to select the desired criteria, which included users who are alums and were involved in Slater during their time at Wellesley."
   ]
  },
  {
   "cell_type": "code",
   "execution_count": null,
   "metadata": {},
   "outputs": [],
   "source": [
    "import time"
   ]
  },
  {
   "cell_type": "code",
   "execution_count": null,
   "metadata": {},
   "outputs": [],
   "source": [
    "# Navigate to search page\n",
    "driver.get('https://hive.wellesley.edu/hub/the-hive/person')\n",
    "time.sleep(3)\n",
    "driver.find_element_by_id('remainingFilter').click()\n",
    "time.sleep(3)\n",
    "categories = driver.find_elements_by_class_name('content-header')\n",
    "\n",
    "# Select alumni filter\n",
    "userType = categories[2]\n",
    "userType.find_element_by_tag_name('em').click()\n",
    "time.sleep(3)\n",
    "alumna = driver.find_element_by_xpath('//*[@id=\"remainingFilterFilter\"]/div/div/div/div/div[2]/div/div[3]/div/div/div[2]/div/div/div/div/label[1]/span[1]/input')\n",
    "alumna.click()\n",
    "time.sleep(3)\n",
    "\n",
    "# Select Slater filter\n",
    "involvement = categories[15]\n",
    "involvement.find_element_by_tag_name('em').click()\n",
    "time.sleep(3)\n",
    "slater = driver.find_element_by_xpath('//*[@id=\"remainingFilterFilter\"]/div/div/div/div/div[2]/div/div[16]/div/div/div[2]/div/div/div/div/label[203]/span[1]/input')\n",
    "slater.click()\n",
    "submit = driver.find_element_by_xpath('//*[@id=\"remainingFilterFilter\"]/div/div/div/div/div[4]/div/button')\n",
    "submit.click()"
   ]
  },
  {
   "cell_type": "markdown",
   "metadata": {},
   "source": [
    "### 3. Loading User Search Profiles\n",
    "The Wellesley Hive is a synchronously loading page, so we need to scroll down in order to load all of the users that match our search. It is important to consider that the Wellesley Hive has infinite scroll, and after it shows the exact matches for a search it starts showing users that are \"similar matches\", which means that they do not exactly match the criteria given. We found 232 exact matches, so we are interested in loading only these profiles. \n",
    "\n",
    "We will define a function to scroll down until at least 232 user profiles are loaded."
   ]
  },
  {
   "cell_type": "code",
   "execution_count": null,
   "metadata": {},
   "outputs": [],
   "source": [
    "def scroller():\n",
    "    \"\"\"Scrolls down on the Wellesley Hive website until 232 user cards are loaded\"\"\"\n",
    "    SCROLL_PAUSE_TIME = 5\n",
    "\n",
    "    # Get scroll height\n",
    "    last_height = driver.execute_script(\"return document.body.scrollHeight\")\n",
    "\n",
    "    # We only want to load around 232 alums (exact matches)\n",
    "    while len(driver.find_elements_by_class_name('ant-card-body'))<= 232:\n",
    "        \n",
    "        # Scroll down to bottom\n",
    "        driver.execute_script(\"window.scrollTo(0, document.body.scrollHeight);\")\n",
    "\n",
    "        # Wait to load page\n",
    "        time.sleep(SCROLL_PAUSE_TIME)\n",
    "\n",
    "        # Calculate new scroll height and compare with last scroll height\n",
    "        new_height = driver.execute_script(\"return document.body.scrollHeight\")\n",
    "        if new_height == last_height:\n",
    "            break\n",
    "        last_height = new_height"
   ]
  },
  {
   "cell_type": "code",
   "execution_count": null,
   "metadata": {},
   "outputs": [],
   "source": [
    "# Scroll all the way down to get at least 232 alums\n",
    "scroller()"
   ]
  },
  {
   "cell_type": "markdown",
   "metadata": {},
   "source": [
    "### 4. Collecting Alum Data\n",
    "Using Selenium, we will click on all of the international alums' profiles and retrieve information from their profiles. "
   ]
  },
  {
   "cell_type": "markdown",
   "metadata": {},
   "source": [
    "The function below collects the personal details, professional experience, and educational background for a profile, if the information is available on a user's profile."
   ]
  },
  {
   "cell_type": "code",
   "execution_count": null,
   "metadata": {},
   "outputs": [],
   "source": [
    "def getProfileInfo():\n",
    "    \"\"\"Returns a dictionary containing name, graduation year, current location, \n",
    "    professional experience, and educational background for a given Wellesley\n",
    "    Hive user\"\"\"\n",
    "    \n",
    "    # header\n",
    "    try:\n",
    "        name = driver.find_element_by_class_name(\"profile__top__content__title\").text[:-4]\n",
    "        header = driver.find_elements_by_css_selector(\".profile__card--font-sm.profile__card__icon-with-text__text\")\n",
    "        year = header[0].text\n",
    "        location = header[1].text\n",
    "    except:\n",
    "        name = driver.find_element_by_class_name(\"profile__top__content__title\").text[:-4]\n",
    "        header = ''\n",
    "        year = ''\n",
    "        location = ''\n",
    "    \n",
    "    # Professional experience\n",
    "    workExp = []\n",
    "    try:\n",
    "        work = driver.find_element_by_id(\"workHistory\")\n",
    "        for elem in work.find_elements_by_class_name(\"profile__section__list__item\"):\n",
    "            position = elem.find_element_by_class_name(\"profile__section__list__item__content__title\").text\n",
    "            workplace = elem.find_element_by_class_name(\"flex-grow\").text\n",
    "            info = (position,workplace)\n",
    "            workExp.append(info)\n",
    "    except:\n",
    "        pass\n",
    "    \n",
    "    # Education\n",
    "    edExp = []\n",
    "    try:\n",
    "        ed = driver.find_element_by_id(\"schools\")\n",
    "        for elem in ed.find_elements_by_css_selector(\".profile__section__list__item.profile__schools__item\"):\n",
    "            institution = elem.find_element_by_class_name(\"flex-grow\").text\n",
    "            level = elem.find_element_by_class_name(\"profile__section__list__item__content__subtitle\").text\n",
    "            majors = elem.find_element_by_css_selector(\".profile__section__list__item__content__subtitle.profile__section__list__item__content__subtitle2\").text\n",
    "            info2 = (institution,level,majors)\n",
    "            edExp.append(info2)\n",
    "    except:\n",
    "        pass\n",
    "        \n",
    "    return {'name':name, 'year':year, 'location':location, 'work':workExp, 'education':edExp}"
   ]
  },
  {
   "cell_type": "markdown",
   "metadata": {},
   "source": [
    "We will retrieve the profile information for only 229 users. The rest of the users are not exact matches on our search, which means that they do not match all of our criteria (graduated before Spring 2021, and participated in Slater)."
   ]
  },
  {
   "cell_type": "code",
   "execution_count": null,
   "metadata": {},
   "outputs": [],
   "source": [
    "alums = []\n",
    "allUsers = driver.find_elements_by_class_name('person-card__name-block')\n",
    "scroll= 350\n",
    "counter = 0\n",
    "\n",
    "for i in range(0,229):\n",
    "    #print(i,counter)\n",
    "    allUsers = driver.find_elements_by_class_name('person-card__name-block')\n",
    "    alum = allUsers[i]\n",
    "\n",
    "    # Go to profile\n",
    "    try:\n",
    "        alum.click()\n",
    "        time.sleep(3)\n",
    "        alums.append(getProfileInfo())\n",
    "    except:\n",
    "        time.sleep(2)\n",
    "        alums.append(getProfileInfo())\n",
    "\n",
    "    # Go back\n",
    "    driver.back()\n",
    "    time.sleep(2) \n",
    "    \n",
    "    counter += 1\n",
    "    \n",
    "    if counter%4 == 0:\n",
    "        driver.execute_script(\"window.scrollTo(0,\"+str(scroll)+\");\")\n",
    "        scroll += 350\n",
    "        time.sleep(2)"
   ]
  },
  {
   "cell_type": "code",
   "execution_count": null,
   "metadata": {},
   "outputs": [],
   "source": [
    "import json\n",
    "\n",
    "with open('alums.json','w') as outfile:\n",
    "    json.dump(alums, outfile)"
   ]
  }
 ],
 "metadata": {
  "kernelspec": {
   "display_name": "Python 3",
   "language": "python",
   "name": "python3"
  },
  "language_info": {
   "codemirror_mode": {
    "name": "ipython",
    "version": 3
   },
   "file_extension": ".py",
   "mimetype": "text/x-python",
   "name": "python",
   "nbconvert_exporter": "python",
   "pygments_lexer": "ipython3",
   "version": "3.7.6"
  }
 },
 "nbformat": 4,
 "nbformat_minor": 4
}
